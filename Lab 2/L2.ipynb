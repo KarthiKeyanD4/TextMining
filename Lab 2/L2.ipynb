{
 "cells": [
  {
   "cell_type": "markdown",
   "metadata": {},
   "source": [
    "# L2: Text classification"
   ]
  },
  {
   "cell_type": "markdown",
   "metadata": {},
   "source": [
    "Text classification is the task of sorting text documents into predefined classes. The concrete problem you will be working on in this lab is the classification of texts with respect to their political affiliation. The specific texts you are going to classify are speeches held in the [Riksdag](https://www.riksdagen.se/en/), the Swedish national legislature."
   ]
  },
  {
   "cell_type": "markdown",
   "metadata": {},
   "source": [
    "**Before starting with this lab, here is a quick reminder about our [Rules for hand-in assignments](https://www.ida.liu.se/~TDDE16/exam.en.shtml#handins) and the [Policy on cheating and plagiarism](https://www.ida.liu.se/~TDDE16/exam.en.shtml#cheating).**"
   ]
  },
  {
   "cell_type": "markdown",
   "metadata": {},
   "source": [
    "## Data set"
   ]
  },
  {
   "cell_type": "markdown",
   "metadata": {},
   "source": [
    "The raw data for this lab comes from [The Riksdag’s Open Data](https://data.riksdagen.se/in-english/). We have tokenized the speeches and put them into two compressed [JSON](https://en.wikipedia.org/wiki/JSON) files:\n",
    "\n",
    "* `speeches-201718.json.bz2` (speeches from the 2017/2018 parliamentary session)\n",
    "* `speeches-201819.json.bz2` (ditto, from the 2018/2019 session)\n",
    "\n",
    "We start by loading these files into two separate data frames."
   ]
  },
  {
   "cell_type": "code",
   "execution_count": 1,
   "metadata": {},
   "outputs": [],
   "source": [
    "import pandas as pd\n",
    "import bz2\n",
    "\n",
    "with bz2.open('speeches-201718.json.bz2') as source:\n",
    "    speeches_201718 = pd.read_json(source)\n",
    "\n",
    "with bz2.open('speeches-201819.json.bz2') as source:\n",
    "    speeches_201819 = pd.read_json(source)"
   ]
  },
  {
   "cell_type": "markdown",
   "metadata": {},
   "source": [
    "When you inspect the two data frames, you can see that there are three labelled columns: `id` (the official speech ID), `words` (the space-separated words of the speech), and `party` (the party of the speaker, represented by its customary abbreviation)."
   ]
  },
  {
   "cell_type": "code",
   "execution_count": 2,
   "metadata": {},
   "outputs": [
    {
     "data": {
      "text/html": [
       "<div>\n",
       "<style scoped>\n",
       "    .dataframe tbody tr th:only-of-type {\n",
       "        vertical-align: middle;\n",
       "    }\n",
       "\n",
       "    .dataframe tbody tr th {\n",
       "        vertical-align: top;\n",
       "    }\n",
       "\n",
       "    .dataframe thead th {\n",
       "        text-align: right;\n",
       "    }\n",
       "</style>\n",
       "<table border=\"1\" class=\"dataframe\">\n",
       "  <thead>\n",
       "    <tr style=\"text-align: right;\">\n",
       "      <th></th>\n",
       "      <th>id</th>\n",
       "      <th>words</th>\n",
       "      <th>party</th>\n",
       "    </tr>\n",
       "  </thead>\n",
       "  <tbody>\n",
       "    <tr>\n",
       "      <th>0</th>\n",
       "      <td>H5-002-004</td>\n",
       "      <td>eders majestäter eders kungliga högheter herr ...</td>\n",
       "      <td>S</td>\n",
       "    </tr>\n",
       "    <tr>\n",
       "      <th>1</th>\n",
       "      <td>H5-003-001</td>\n",
       "      <td>aktuell debatt om situationen för ensamkommand...</td>\n",
       "      <td>V</td>\n",
       "    </tr>\n",
       "    <tr>\n",
       "      <th>2</th>\n",
       "      <td>H5-003-002</td>\n",
       "      <td>herr talman och ledamöter jag vill börja med a...</td>\n",
       "      <td>S</td>\n",
       "    </tr>\n",
       "    <tr>\n",
       "      <th>3</th>\n",
       "      <td>H5-003-003</td>\n",
       "      <td>herr talman åhörare den här debatten handlar a...</td>\n",
       "      <td>M</td>\n",
       "    </tr>\n",
       "    <tr>\n",
       "      <th>4</th>\n",
       "      <td>H5-003-004</td>\n",
       "      <td>herr talman ansvar och rättssäkerhet är två or...</td>\n",
       "      <td>SD</td>\n",
       "    </tr>\n",
       "  </tbody>\n",
       "</table>\n",
       "</div>"
      ],
      "text/plain": [
       "           id                                              words party\n",
       "0  H5-002-004  eders majestäter eders kungliga högheter herr ...     S\n",
       "1  H5-003-001  aktuell debatt om situationen för ensamkommand...     V\n",
       "2  H5-003-002  herr talman och ledamöter jag vill börja med a...     S\n",
       "3  H5-003-003  herr talman åhörare den här debatten handlar a...     M\n",
       "4  H5-003-004  herr talman ansvar och rättssäkerhet är två or...    SD"
      ]
     },
     "execution_count": 2,
     "metadata": {},
     "output_type": "execute_result"
    }
   ],
   "source": [
    "speeches_201718.head()"
   ]
  },
  {
   "cell_type": "markdown",
   "metadata": {},
   "source": [
    "Throughout the lab, we will be using the speeches from 2017/2018 as our training data, and the speeches from 2018/2019 as our test data."
   ]
  },
  {
   "cell_type": "code",
   "execution_count": 3,
   "metadata": {},
   "outputs": [],
   "source": [
    "training_data, test_data = speeches_201718, speeches_201819"
   ]
  },
  {
   "cell_type": "markdown",
   "metadata": {},
   "source": [
    "For later reference, we store the sorted list of party abbreviations."
   ]
  },
  {
   "cell_type": "code",
   "execution_count": 4,
   "metadata": {},
   "outputs": [
    {
     "name": "stdout",
     "output_type": "stream",
     "text": [
      "['C', 'KD', 'L', 'M', 'MP', 'S', 'SD', 'V']\n"
     ]
    }
   ],
   "source": [
    "parties = sorted(training_data['party'].unique())\n",
    "print(parties)"
   ]
  },
  {
   "cell_type": "markdown",
   "metadata": {},
   "source": [
    "## Problem 1: Visualization"
   ]
  },
  {
   "cell_type": "markdown",
   "metadata": {},
   "source": [
    "Your first task is to get to know the data better by producing a simple visualization.\n",
    "\n",
    "If you are not familiar with the Swedish political system and the parties represented in the Riksdag in particular, then we suggest that you have a look at the Wikipedia article about the [2018 Swedish general election](https://en.wikipedia.org/wiki/2018_Swedish_general_election).\n",
    "\n",
    "For the lab, we ask you to compare the two data frames with respect to the distribution of the speeches over the different parties. Write code to generate two bar plots that visualize this information, one for the 2017/2018 speeches and one for the 2018/2019 speeches. Inspect the two plots, and compare them\n",
    "\n",
    "* to each other\n",
    "* to the results of the 2014 and the 2018 general elections\n",
    "\n",
    "Summarize your observations in a short text in the cell below.\n",
    "\n",
    "**Tip:** If you need help with creating bar plots, [Bar Plot using Pandas](https://dfrieds.com/data-visualizations/bar-plot-python-pandas) provides a useful tutorial."
   ]
  },
  {
   "cell_type": "code",
   "execution_count": 5,
   "metadata": {},
   "outputs": [
    {
     "data": {
      "image/png": "[encoded data removed]",
      "text/plain": [
       "<Figure size 432x288 with 1 Axes>"
      ]
     },
     "metadata": {
      "needs_background": "light"
     },
     "output_type": "display_data"
    }
   ],
   "source": [
    "import matplotlib.pyplot as plt\n",
    "training_data['party'].value_counts().plot(kind='bar');\n",
    "plt.xlabel(\"Party Types\", labelpad=14)\n",
    "plt.ylabel(\"Number of speeches\", labelpad=14)\n",
    "plt.title(\"Number of speeches by party in 2017 - 2018\", y=1.02);"
   ]
  },
  {
   "cell_type": "code",
   "execution_count": 6,
   "metadata": {},
   "outputs": [
    {
     "data": {
      "image/png": "[encoded data removed]",
      "text/plain": [
       "<Figure size 432x288 with 1 Axes>"
      ]
     },
     "metadata": {
      "needs_background": "light"
     },
     "output_type": "display_data"
    }
   ],
   "source": [
    "test_data['party'].value_counts().plot(kind='bar');\n",
    "# plt.xlabel(\"Party Types\", labelpad=14)\n",
    "plt.ylabel(\"Number of speeches\", labelpad=14)\n",
    "plt.title(\"Number of speeches by party in 2018 - 2019\", y=1.02);"
   ]
  },
  {
   "cell_type": "markdown",
   "metadata": {},
   "source": [
    "*TODO: Enter your summary here*"
   ]
  },
  {
   "cell_type": "markdown",
   "metadata": {},
   "source": [
    "The order of higher frequency is same but the middle order is different in both sets."
   ]
  },
  {
   "cell_type": "markdown",
   "metadata": {},
   "source": [
    "## Problem 2: Naive Bayes classifier"
   ]
  },
  {
   "cell_type": "markdown",
   "metadata": {},
   "source": [
    "You are now ready to train and evaluate a classifier. More specifically, we ask you to train a [Multinomial Naive Bayes](https://scikit-learn.org/stable/modules/naive_bayes.html#multinomial-naive-bayes) classifier. You will have to\n",
    "\n",
    "1. vectorize the speeches in the training data\n",
    "2. instantiate and fit the Naive Bayes model\n",
    "3. evaluate the model on the test data\n",
    "\n",
    "The scikit-learn library provides a convenience class [Pipeline](https://scikit-learn.org/stable/modules/generated/sklearn.pipeline.Pipeline.html) that allows you to solve the first two tasks with very compact code. For the evaluation you can use the function [`classification_report`](https://scikit-learn.org/stable/modules/generated/sklearn.metrics.classification_report.html), which will report per-class precision, recall and F1, as well as overall accuracy."
   ]
  },
  {
   "cell_type": "code",
   "execution_count": 7,
   "metadata": {},
   "outputs": [],
   "source": [
    "# TODO: Write code here to train and evaluate a Multinomial Naive Bayes classifier\n",
    "from sklearn.model_selection import train_test_split\n",
    "X_train = training_data['words']\n",
    "X_test = test_data['words']\n",
    "y_train = training_data['party']\n",
    "y_test = test_data['party']"
   ]
  },
  {
   "cell_type": "code",
   "execution_count": 8,
   "metadata": {},
   "outputs": [],
   "source": [
    "from sklearn.naive_bayes import MultinomialNB\n",
    "model1 = MultinomialNB()"
   ]
  },
  {
   "cell_type": "code",
   "execution_count": 9,
   "metadata": {},
   "outputs": [],
   "source": [
    "from sklearn.pipeline import Pipeline\n",
    "from sklearn.feature_extraction.text import CountVectorizer, TfidfTransformer\n",
    "Vector = CountVectorizer()"
   ]
  },
  {
   "cell_type": "code",
   "execution_count": 10,
   "metadata": {},
   "outputs": [],
   "source": [
    "pipeline = Pipeline([('vector',Vector),('Model',model1),])"
   ]
  },
  {
   "cell_type": "code",
   "execution_count": 11,
   "metadata": {},
   "outputs": [],
   "source": [
    "Model = pipeline.fit(X_train,y_train)"
   ]
  },
  {
   "cell_type": "code",
   "execution_count": 12,
   "metadata": {},
   "outputs": [],
   "source": [
    "y_pred = Model.predict(X_test)"
   ]
  },
  {
   "cell_type": "code",
   "execution_count": 13,
   "metadata": {},
   "outputs": [
    {
     "name": "stdout",
     "output_type": "stream",
     "text": [
      "              precision    recall  f1-score   support\n",
      "\n",
      "           C       0.04      0.63      0.07        41\n",
      "          KD       0.02      0.70      0.03        20\n",
      "           L       0.02      0.92      0.04        12\n",
      "           M       0.68      0.36      0.47      3110\n",
      "          MP       0.25      0.36      0.29       552\n",
      "           S       0.84      0.46      0.59      5078\n",
      "          SD       0.12      0.57      0.20       232\n",
      "           V       0.15      0.59      0.24       243\n",
      "\n",
      "    accuracy                           0.43      9288\n",
      "   macro avg       0.26      0.57      0.24      9288\n",
      "weighted avg       0.71      0.43      0.51      9288\n",
      "\n"
     ]
    }
   ],
   "source": [
    "from sklearn.metrics import classification_report\n",
    "print(classification_report(y_pred,y_test))"
   ]
  },
  {
   "cell_type": "markdown",
   "metadata": {},
   "source": [
    "Would you have expected the results that you got?"
   ]
  },
  {
   "cell_type": "markdown",
   "metadata": {},
   "source": [
    "I expected the results because of the interpretations from the graph. The recall for party with low number of counts is higher but low precision. The precision score for party with large counts is higher and the same parties had low recall score. This problem is due to imbalance of the datasets. "
   ]
  },
  {
   "cell_type": "markdown",
   "metadata": {},
   "source": [
    "## Problem 3: Baselines"
   ]
  },
  {
   "cell_type": "markdown",
   "metadata": {},
   "source": [
    "Evaluation metrics such as accuracy should not be understood as absolute measures of performance, but should be used only to compare different classifiers. When other classifiers are not available, a simple baseline is a classifier that generates predictions by random sampling, respecting the training set&rsquo;s class distribution. This baseline is implemented by the class [DummyClassifier](https://scikit-learn.org/stable/modules/generated/sklearn.dummy.DummyClassifier.html). What is the performance of the random baseline on the test data?"
   ]
  },
  {
   "cell_type": "code",
   "execution_count": 14,
   "metadata": {},
   "outputs": [
    {
     "data": {
      "text/plain": [
       "DummyClassifier(strategy='stratified')"
      ]
     },
     "execution_count": 14,
     "metadata": {},
     "output_type": "execute_result"
    }
   ],
   "source": [
    "# TODO: Write code here to evaluate the random baseline\n",
    "from sklearn.dummy import DummyClassifier as DC\n",
    "\n",
    "# Fitting the model\n",
    "dummy_CLF = DC(strategy=\"stratified\")\n",
    "# Fitting the model\n",
    "dummy_CLF.fit(X_train,y_train)"
   ]
  },
  {
   "cell_type": "code",
   "execution_count": 15,
   "metadata": {},
   "outputs": [
    {
     "data": {
      "text/plain": [
       "0.17743324720068906"
      ]
     },
     "execution_count": 15,
     "metadata": {},
     "output_type": "execute_result"
    }
   ],
   "source": [
    "# Predicting from model\n",
    "dummy_CLF.predict(X_test)\n",
    "\n",
    "# Model Score\n",
    "dummy_CLF.score(X_test,y_test)"
   ]
  },
  {
   "cell_type": "markdown",
   "metadata": {},
   "source": [
    "An even dumber baseline is to predict, for every document, that class which appears most often in the training data. This baseline is also called the most frequent class baseline. What is the accuracy of that baseline on the test data?"
   ]
  },
  {
   "cell_type": "code",
   "execution_count": 16,
   "metadata": {},
   "outputs": [
    {
     "data": {
      "text/plain": [
       "0.298557278208441"
      ]
     },
     "execution_count": 16,
     "metadata": {},
     "output_type": "execute_result"
    }
   ],
   "source": [
    "# TODO: Write code here to print the accuracy of the most frequent class baseline\n",
    "# Fitting the model\n",
    "dummy_CLF = DC(strategy=\"most_frequent\")\n",
    "# Fitting the model\n",
    "dummy_CLF.fit(X_train,y_train)\n",
    "# Predicting from model\n",
    "y_pred = dummy_CLF.predict(X_test)\n",
    "\n",
    "# Model Score\n",
    "dummy_CLF.score(X_test,y_test)"
   ]
  },
  {
   "cell_type": "markdown",
   "metadata": {},
   "source": [
    "## Problem 4: Creating a balanced data set"
   ]
  },
  {
   "cell_type": "markdown",
   "metadata": {},
   "source": [
    "As you saw in Problem&nbsp;1, the distribution of the speeches over the eight different parties (classes) is imbalanced. One technique used to alleviate this is **undersampling**, in which one randomly removes samples from over-represented classes until all classes are represented with the same number of samples.\n",
    "\n",
    "Implement undersampling to create a balanced subset of the training data. Rerun the evaluation from Problem&nbsp;2 on the balanced data and compare the results. Summarise your results in a short text.\n",
    "\n",
    "**Hint:** Your balanced subset should consist of 5,752 speeches."
   ]
  },
  {
   "cell_type": "code",
   "execution_count": 17,
   "metadata": {},
   "outputs": [],
   "source": [
    "count = y_train.value_counts()"
   ]
  },
  {
   "cell_type": "code",
   "execution_count": 18,
   "metadata": {},
   "outputs": [],
   "source": [
    "# TODO: Write code here to implement undersampling\n",
    "# here since it is given as undersampling we should take the minimum count of each party and create data set based on that\n",
    "new_data = pd.DataFrame()"
   ]
  },
  {
   "cell_type": "code",
   "execution_count": 19,
   "metadata": {},
   "outputs": [],
   "source": [
    "for i in parties:\n",
    "    df = training_data[training_data[\"party\"] == i]\n",
    "    df = df.sample(count.min())\n",
    "    new_data = pd.concat([new_data,df])"
   ]
  },
  {
   "cell_type": "code",
   "execution_count": 20,
   "metadata": {},
   "outputs": [
    {
     "name": "stdout",
     "output_type": "stream",
     "text": [
      "              precision    recall  f1-score   support\n",
      "\n",
      "           C       0.28      0.44      0.34       671\n",
      "          KD       0.30      0.38      0.34       821\n",
      "           L       0.27      0.43      0.33       560\n",
      "           M       0.39      0.51      0.45      1644\n",
      "          MP       0.37      0.34      0.35       809\n",
      "           S       0.80      0.33      0.46      2773\n",
      "          SD       0.45      0.40      0.42      1060\n",
      "           V       0.40      0.55      0.46       950\n",
      "\n",
      "    accuracy                           0.41      9288\n",
      "   macro avg       0.41      0.42      0.39      9288\n",
      "weighted avg       0.50      0.41      0.42      9288\n",
      "\n"
     ]
    }
   ],
   "source": [
    "X_train = new_data['words']\n",
    "y_train = new_data['party']\n",
    "\n",
    "Model = pipeline.fit(X_train,y_train)\n",
    "y_pred = Model.predict(X_test)\n",
    "print(classification_report(y_test,y_pred))"
   ]
  },
  {
   "cell_type": "code",
   "execution_count": 21,
   "metadata": {},
   "outputs": [],
   "source": [
    "# oversampling\n",
    "new_data1 = pd.DataFrame()"
   ]
  },
  {
   "cell_type": "code",
   "execution_count": 22,
   "metadata": {},
   "outputs": [],
   "source": [
    "for i in parties:\n",
    "    df1 = training_data[training_data[\"party\"] == i]\n",
    "    df1 = df1.sample(count.max(),replace=True)\n",
    "    new_data1= pd.concat([new_data1,df1])"
   ]
  },
  {
   "cell_type": "code",
   "execution_count": 23,
   "metadata": {},
   "outputs": [
    {
     "name": "stdout",
     "output_type": "stream",
     "text": [
      "              precision    recall  f1-score   support\n",
      "\n",
      "           C       0.38      0.34      0.35       671\n",
      "          KD       0.41      0.26      0.32       821\n",
      "           L       0.29      0.31      0.30       560\n",
      "           M       0.43      0.56      0.49      1644\n",
      "          MP       0.32      0.48      0.39       809\n",
      "           S       0.67      0.54      0.59      2773\n",
      "          SD       0.45      0.44      0.45      1060\n",
      "           V       0.46      0.45      0.45       950\n",
      "\n",
      "    accuracy                           0.46      9288\n",
      "   macro avg       0.43      0.42      0.42      9288\n",
      "weighted avg       0.48      0.46      0.47      9288\n",
      "\n"
     ]
    }
   ],
   "source": [
    "X_train = new_data1['words']\n",
    "y_train = new_data1['party']\n",
    "\n",
    "Model = pipeline.fit(X_train,y_train)\n",
    "y_pred = Model.predict(X_test)\n",
    "print(classification_report(y_test,y_pred))"
   ]
  },
  {
   "cell_type": "markdown",
   "metadata": {},
   "source": [
    "*TODO: Enter the summary of your results here*  \n",
    "The accuracy has increased in balanced data than unbalanced diet. The f1 score and prescision are more equal among different parties. "
   ]
  },
  {
   "cell_type": "markdown",
   "metadata": {},
   "source": [
    "## Problem 5: Confusion matrix"
   ]
  },
  {
   "cell_type": "markdown",
   "metadata": {},
   "source": [
    "A **confusion matrix** is a specific table that is useful when analysing the performance of a classifier. In this table, both the rows and the columns correspond to classes, and each cell $(i, j)$ states how many times a sample with gold-standard class $i$ was predicted as belonging to class $j$.\n",
    "\n",
    "In scitkit-learn, the confusion matrix of a classifier is computed by the function [`confusion_matrix`](https://scikit-learn.org/stable/modules/generated/sklearn.metrics.confusion_matrix.html). If you would rather see a visual representation, you can also use [`plot_confusion_matrix`](https://scikit-learn.org/stable/modules/generated/sklearn.metrics.plot_confusion_matrix.html).\n",
    "\n",
    "Your task is to use the confusion matrix in order to find, for each given party $p$ in the Riksdag, that other party $p'$ which the classifier that you trained in Problem&nbsp;4 most often confuses with $p$ when it predicts the party of a speaker."
   ]
  },
  {
   "cell_type": "code",
   "execution_count": 24,
   "metadata": {},
   "outputs": [
    {
     "name": "stdout",
     "output_type": "stream",
     "text": [
      "[[ 225   32   28  142   72   93   46   33]\n",
      " [  49  214   45  217   74   93   73   56]\n",
      " [  36   28  173  102   55   63   54   49]\n",
      " [  96   70   91  923  116  167  123   58]\n",
      " [  29   30   39   87  392  150   40   42]\n",
      " [  80   68   92  339  354 1487  160  193]\n",
      " [  52   46   71  187   71   85  465   83]\n",
      " [  30   36   49  148   93   95   68  431]]\n"
     ]
    }
   ],
   "source": [
    "# TODO: Write code here to solve Problem 5\n",
    "from sklearn.metrics import confusion_matrix, plot_confusion_matrix\n",
    "# here the confusion matrix is print\n",
    "confusion_mat = confusion_matrix(y_test,y_pred,labels=parties)\n",
    "print(confusion_mat)"
   ]
  },
  {
   "cell_type": "code",
   "execution_count": 25,
   "metadata": {},
   "outputs": [
    {
     "data": {
      "text/plain": [
       "<sklearn.metrics._plot.confusion_matrix.ConfusionMatrixDisplay at 0x21fa4013a90>"
      ]
     },
     "execution_count": 25,
     "metadata": {},
     "output_type": "execute_result"
    },
    {
     "data": {
      "image/png": "[encoded data removed]",
      "text/plain": [
       "<Figure size 432x288 with 2 Axes>"
      ]
     },
     "metadata": {
      "needs_background": "light"
     },
     "output_type": "display_data"
    }
   ],
   "source": [
    "# Here confusion matrix is plotted\n",
    "plot_confusion_matrix(Model,X_test,y_test)"
   ]
  },
  {
   "cell_type": "markdown",
   "metadata": {},
   "source": [
    "Take a minute to reflect on whether your results make sense.\n",
    "\n",
    "Parties C, KD, L, V, SD is confused by party M because their correlation is highest.  \n",
    "Party M is confused by party S. \n",
    "Party S is confused by MP."
   ]
  },
  {
   "cell_type": "markdown",
   "metadata": {},
   "source": [
    "## Problem 6: Grid search"
   ]
  },
  {
   "cell_type": "markdown",
   "metadata": {},
   "source": [
    "Until now, you have been using the vectorizer and the Naive Bayes classifier with their default hyperparameters. When working with real-world applications, you would want to find settings for the hyperparameters that maximize the performance for the task at hand.\n",
    "\n",
    "Manually tweaking the hyperparameters of the various components of a vectorizer–classifier pipeline can be cumbersome. However, scikit-learn makes it possible to run an exhaustive search for the best hyperparameters over a grid of possible values. This method is known as **grid search**.\n",
    "\n",
    "The hyperparameters of a pipeline should never be tuned on the final test set. Instead, one should either use a separate validation set, or run cross-validation over different folds. Here we will use cross-validation.\n",
    "\n",
    "Implement a grid search with 5-fold cross-validation to find the optimal parameters in a grid defined by the following choices for the hyperparameters:\n",
    "\n",
    "* In the vectorizer, try a set-of-words (binary) model in addition to the default bag-of-words model (two possible parameter values).\n",
    "* Also in the vectorizer, try extracting bigrams in addition to unigrams (two possible parameter values).\n",
    "* In the Naive Bayes classifier, try using additive smoothing with $\\alpha \\in \\{1, 0{.}1\\}$ (two possible parameter values).\n",
    "\n",
    "Use the class [GridSearchCV](https://scikit-learn.org/stable/modules/generated/sklearn.model_selection.GridSearchCV.html) from the scikit-learn library. Print the results of your best model, along with the parameter values that yielded these results."
   ]
  },
  {
   "cell_type": "code",
   "execution_count": 26,
   "metadata": {},
   "outputs": [],
   "source": [
    "# TODO: Write code here to implement the grid search\n",
    "from sklearn.model_selection import GridSearchCV\n",
    "parameters = [{'vector__binary':(True, False),\n",
    "              'vector__ngram_range':((1, 1),(1,2)),\n",
    "             'Model__alpha':(1, 0.1)}]\n",
    "Grid_Mu = GridSearchCV(pipeline, parameters, n_jobs=-1, cv=5)"
   ]
  },
  {
   "cell_type": "code",
   "execution_count": 27,
   "metadata": {},
   "outputs": [
    {
     "data": {
      "text/plain": [
       "GridSearchCV(cv=5,\n",
       "             estimator=Pipeline(steps=[('vector', CountVectorizer()),\n",
       "                                       ('Model', MultinomialNB())]),\n",
       "             n_jobs=-1,\n",
       "             param_grid=[{'Model__alpha': (1, 0.1),\n",
       "                          'vector__binary': (True, False),\n",
       "                          'vector__ngram_range': ((1, 1), (1, 2))}])"
      ]
     },
     "execution_count": 27,
     "metadata": {},
     "output_type": "execute_result"
    }
   ],
   "source": [
    "Grid_Mu.fit(X_train,y_train)"
   ]
  },
  {
   "cell_type": "code",
   "execution_count": 28,
   "metadata": {},
   "outputs": [
    {
     "data": {
      "text/plain": [
       "{'Model__alpha': 0.1, 'vector__binary': True, 'vector__ngram_range': (1, 2)}"
      ]
     },
     "execution_count": 28,
     "metadata": {},
     "output_type": "execute_result"
    }
   ],
   "source": [
    "Grid_Mu.best_params_"
   ]
  },
  {
   "cell_type": "code",
   "execution_count": 29,
   "metadata": {},
   "outputs": [],
   "source": [
    "y_pred = Grid_Mu.predict(X_test)"
   ]
  },
  {
   "cell_type": "code",
   "execution_count": 30,
   "metadata": {},
   "outputs": [
    {
     "name": "stdout",
     "output_type": "stream",
     "text": [
      "              precision    recall  f1-score   support\n",
      "\n",
      "           C       0.60      0.10      0.18       671\n",
      "          KD       0.61      0.07      0.13       821\n",
      "           L       0.43      0.06      0.11       560\n",
      "           M       0.36      0.71      0.48      1644\n",
      "          MP       0.39      0.34      0.36       809\n",
      "           S       0.50      0.79      0.61      2773\n",
      "          SD       0.64      0.21      0.32      1060\n",
      "           V       0.64      0.22      0.33       950\n",
      "\n",
      "    accuracy                           0.46      9288\n",
      "   macro avg       0.52      0.31      0.32      9288\n",
      "weighted avg       0.51      0.46      0.40      9288\n",
      "\n"
     ]
    }
   ],
   "source": [
    "print(classification_report(y_test,y_pred))"
   ]
  },
  {
   "cell_type": "markdown",
   "metadata": {},
   "source": [
    "## Problem 7: Try to improve your results"
   ]
  },
  {
   "cell_type": "markdown",
   "metadata": {},
   "source": [
    "Scikit-learn makes it easy to test different vectorizer–classifier pipelines – among other things, it includes different types of logistic regression classifiers, support vector machines, and decision trees. Browse the library to see which methods are supported.\n",
    "\n",
    "Build a pipeline that you find interesting, and use grid search to find optimal settings for the hyperparameters. Print the results of your best model."
   ]
  },
  {
   "cell_type": "code",
   "execution_count": 31,
   "metadata": {},
   "outputs": [],
   "source": [
    "# TODO: Write code here to search for a better model and print the results\n",
    "from sklearn.linear_model import SGDClassifier, LogisticRegression\n",
    "\n",
    "pipeline = Pipeline([('Vector',CountVectorizer()),\n",
    "                     ('tfidf',TfidfTransformer()),\n",
    "               ('Model',LogisticRegression()),])\n"
   ]
  },
  {
   "cell_type": "code",
   "execution_count": 32,
   "metadata": {},
   "outputs": [
    {
     "data": {
      "text/plain": [
       "dict_keys(['memory', 'steps', 'verbose', 'Vector', 'tfidf', 'Model', 'Vector__analyzer', 'Vector__binary', 'Vector__decode_error', 'Vector__dtype', 'Vector__encoding', 'Vector__input', 'Vector__lowercase', 'Vector__max_df', 'Vector__max_features', 'Vector__min_df', 'Vector__ngram_range', 'Vector__preprocessor', 'Vector__stop_words', 'Vector__strip_accents', 'Vector__token_pattern', 'Vector__tokenizer', 'Vector__vocabulary', 'tfidf__norm', 'tfidf__smooth_idf', 'tfidf__sublinear_tf', 'tfidf__use_idf', 'Model__C', 'Model__class_weight', 'Model__dual', 'Model__fit_intercept', 'Model__intercept_scaling', 'Model__l1_ratio', 'Model__max_iter', 'Model__multi_class', 'Model__n_jobs', 'Model__penalty', 'Model__random_state', 'Model__solver', 'Model__tol', 'Model__verbose', 'Model__warm_start'])"
      ]
     },
     "execution_count": 32,
     "metadata": {},
     "output_type": "execute_result"
    }
   ],
   "source": [
    "pipeline.get_params().keys()"
   ]
  },
  {
   "cell_type": "code",
   "execution_count": 33,
   "metadata": {},
   "outputs": [],
   "source": [
    "parameters = [{'Vector__binary':(True, False),\n",
    "              'Vector__ngram_range':((1, 1),(1,2)),\n",
    "               'tfidf__norm':('l1','l2'),\n",
    "             'Model__penalty':('l1','l2'),\n",
    "              'Model__solver':['liblinear']}]\n",
    "\n",
    "Grid = GridSearchCV(pipeline,parameters,n_jobs=-1,cv=5)"
   ]
  },
  {
   "cell_type": "code",
   "execution_count": 34,
   "metadata": {},
   "outputs": [
    {
     "data": {
      "text/plain": [
       "GridSearchCV(cv=5,\n",
       "             estimator=Pipeline(steps=[('Vector', CountVectorizer()),\n",
       "                                       ('tfidf', TfidfTransformer()),\n",
       "                                       ('Model', LogisticRegression())]),\n",
       "             n_jobs=-1,\n",
       "             param_grid=[{'Model__penalty': ('l1', 'l2'),\n",
       "                          'Model__solver': ['liblinear'],\n",
       "                          'Vector__binary': (True, False),\n",
       "                          'Vector__ngram_range': ((1, 1), (1, 2)),\n",
       "                          'tfidf__norm': ('l1', 'l2')}])"
      ]
     },
     "execution_count": 34,
     "metadata": {},
     "output_type": "execute_result"
    }
   ],
   "source": [
    "Grid.fit(X_train,y_train)"
   ]
  },
  {
   "cell_type": "code",
   "execution_count": 35,
   "metadata": {},
   "outputs": [],
   "source": [
    "y_pred = Grid.predict(X_test)"
   ]
  },
  {
   "cell_type": "code",
   "execution_count": 36,
   "metadata": {},
   "outputs": [
    {
     "name": "stdout",
     "output_type": "stream",
     "text": [
      "              precision    recall  f1-score   support\n",
      "\n",
      "           C       0.52      0.39      0.44       671\n",
      "          KD       0.51      0.30      0.38       821\n",
      "           L       0.48      0.36      0.41       560\n",
      "           M       0.49      0.57      0.53      1644\n",
      "          MP       0.35      0.48      0.41       809\n",
      "           S       0.64      0.67      0.65      2773\n",
      "          SD       0.52      0.55      0.54      1060\n",
      "           V       0.58      0.51      0.54       950\n",
      "\n",
      "    accuracy                           0.54      9288\n",
      "   macro avg       0.51      0.48      0.49      9288\n",
      "weighted avg       0.54      0.54      0.53      9288\n",
      "\n"
     ]
    }
   ],
   "source": [
    "print(classification_report(y_test,y_pred))"
   ]
  },
  {
   "cell_type": "markdown",
   "metadata": {},
   "source": [
    "## Reflection questions"
   ]
  },
  {
   "cell_type": "markdown",
   "metadata": {},
   "source": [
    "The following reflection questions are questions that you could be asked in the oral exam. Try to answer each of them in the form of a short text and enter it in the cell below. You will get feedback on your answers from your lab assistant."
   ]
  },
  {
   "cell_type": "markdown",
   "metadata": {},
   "source": [
    "**RQ 2.1:** Summarise the results of your experiments for Problem&nbsp;2. Are your results ‘good’ or ‘bad’? How do you determine that?  \n",
    "\n",
    "\n",
    "\n",
    "The precision and f1 score low for many parties. So, we could consider it is bad. This is determined by that we dont want a classifier that have bad performance on some classes.\n",
    "\n",
    "However, if we simply want a model which has best performance respecting class prior, this result could be viewed good.\n",
    "\n",
    "\n",
    "\n",
    "**RQ 2.2:** Summarise the results of your experiments for Problem&nbsp;4. Would you think that your results are typical even for other classification tasks? How would *oversampling* have looked like for this task? When would you use undersampling, when oversampling?  \n",
    "\n",
    "\n",
    "\n",
    "1.\n",
    "\n",
    "No, undersampling will discard data, which might make it harder to learn the decision boundary between majority instances and minority instances.This is extreamlly critical for models that are sensitive to data on decistion boundary.\n",
    "\n",
    "\n",
    "\n",
    "2.\n",
    "\n",
    "Oversampling will randomlly copy instances in minority classes so that the sizes of different classes are the same. In this procedure, bias might be introduced. And it will also increase the probability of overfitting. It will also notably increase the size of training data, respecting the number of minority classes and the size of majority classes, which might be a big problem for the models scaled quickly on data size.  \n",
    "\n",
    "\n",
    "\n",
    "3.\n",
    "\n",
    "For cases that the decision boundary is not critical, or the data size is much larger than needed, undersampling is a good choice.\n",
    "\n",
    "\n",
    "\n",
    "For cases that data scale is not important and introduced bias is affordable, oversampling will be better choice.\n",
    "\n",
    "\n",
    "\n",
    "There are some methods combining oversampling and undersampling, which could leverage both.\n",
    "\n",
    "\n",
    "\n",
    "**RQ 2.3:** Which model performed best in your experiments for Problem&nbsp;6? Why is it important to do a hyperparameter search before drawing conclusions about the performance of a model? Why is it often not done, anyway? Why should you never tune hyperparameters on the test set?  \n",
    "\n",
    "\n",
    "\n",
    "1.\n",
    "\n",
    "\n",
    "\n",
    "In vectorizer, using a set-of-words (binary) model and extracting bigrams.\n",
    "\n",
    "In the Naive Bayes classifier, using additive smoothing alpha = 0.1\n",
    "\n",
    "\n",
    "\n",
    "2.\n",
    "\n",
    "\n",
    "\n",
    "Different hyperparameters means different models.According to No Free Lunch law, the hyperparameters should not influence the performance of the model on all possible data.\n",
    "\n",
    "\n",
    "\n",
    "However, different models will have different peformance on certain dataset. Tuning hyperparameters is the procedure which we select the best model given a dataset and its corresponding distribution.\n",
    "\n",
    "\n",
    "\n",
    "3.\n",
    "\n",
    "\n",
    "\n",
    "Tuning hyperparameters might lead to overfitting. When we choose the best model for training data, we have no idea how much noise the model learns from it. Learning too much noise will lead to that the model performs badly on new data, which is low generalization ability. \n",
    "\n",
    "\n",
    "\n",
    "Regularization is a way to reduce generalization error .However, there is no common regularization method for all models.\n",
    "\n",
    "\n",
    "\n",
    "Testing on validation is a way to evaluate generalization ability, which can reduce the risk of overfitting. However, if we divide some data from training set as validation, the new training set size will be smaller, which will lead to estimation error.\n",
    "\n",
    "\n",
    "\n",
    "Tuning hyperparameters is also time consuming. If the hyperparameters size are too larger than the times of training we can afford, it is a important problem to choose proper searching algorithm. And sometimes it is even impossible.  \n",
    "\n",
    "   \n",
    "\n",
    "Another case are that hyperparameters themselves should not be tuned. For example, when we train a regression model, if we set the degree of the fitted function as hyperparameter, then we will only increase the degree to fit training data perfectly, and get a extremelly complex model. This can be avoided by regularizatoin.  \n",
    "\n",
    "\n",
    "\n",
    "So, in many cases, tuning hyperparameter is not a easy choice.\n",
    "\n",
    " \n",
    "\n",
    "4.\n",
    "\n",
    "\n",
    "\n",
    "If we tune hyperparameters on the test set, the model will learn the distribution of test set, and the best selected model will also learn it. In this case, performance on test set cannot be viewed as generalization ability."
   ]
  },
  {
   "cell_type": "markdown",
   "metadata": {},
   "source": [
    "*TODO: Enter your answers here*"
   ]
  },
  {
   "cell_type": "markdown",
   "metadata": {},
   "source": [
    "**Congratulations on finishing L2! 👍**"
   ]
  }
 ],
 "metadata": {
  "kernelspec": {
   "display_name": "Python 3",
   "language": "python",
   "name": "python3"
  },
  "language_info": {
   "codemirror_mode": {
    "name": "ipython",
    "version": 3
   },
   "file_extension": ".py",
   "mimetype": "text/x-python",
   "name": "python",
   "nbconvert_exporter": "python",
   "pygments_lexer": "ipython3",
   "version": "3.8.8"
  }
 },
 "nbformat": 4,
 "nbformat_minor": 2
}
