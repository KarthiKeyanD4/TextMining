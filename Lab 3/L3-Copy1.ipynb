{
 "cells": [
  {
   "cell_type": "markdown",
   "metadata": {
    "id": "_nl6FrSq_Mbc"
   },
   "source": [
    "# L3: Text clustering and topic modelling"
   ]
  },
  {
   "cell_type": "markdown",
   "metadata": {
    "id": "ihwPD1ev_Mbe"
   },
   "source": [
    "Text clustering groups documents in such a way that documents within a group are more &lsquo;similar&rsquo; to other documents in the cluster than to documents not in the cluster. The exact definition of what &lsquo;similar&rsquo; means in this context varies across applications and clustering algorithms.\n",
    "\n",
    "In this lab you will experiment with both hard and soft clustering techniques. More specifically, in the first part you will be using the $k$-means algorithm, and in the second part you will be using a topic model based on the Latent Dirichlet Allocation (LDA)."
   ]
  },
  {
   "cell_type": "markdown",
   "metadata": {
    "id": "YDCtwxzu_Mbf"
   },
   "source": [
    "## Hard clustering data set"
   ]
  },
  {
   "cell_type": "markdown",
   "metadata": {
    "id": "dcJx2b8W_Mbf"
   },
   "source": [
    "The raw data for the hard clustering part of this lab is a collection of product reviews. We have preprocessed the data by tokenization and lowercasing."
   ]
  },
  {
   "cell_type": "code",
   "execution_count": 1,
   "metadata": {
    "id": "UMxijRvy_Mbg"
   },
   "outputs": [],
   "source": [
    "import pandas as pd\n",
    "import bz2\n",
    "\n",
    "with bz2.open('reviews.json.bz2') as source:\n",
    "    df = pd.read_json(source)"
   ]
  },
  {
   "cell_type": "markdown",
   "metadata": {
    "id": "rhcqZ0Wx_Mbh"
   },
   "source": [
    "When you inspect the data frame, you can see that there are three labelled columns: `category` (the product category), `sentiment` (whether the product review was classified as &lsquo;positive&rsquo; or &lsquo;negative&rsquo; towards the product), and `text` (the space-separated text of the review)."
   ]
  },
  {
   "cell_type": "code",
   "execution_count": 2,
   "metadata": {
    "id": "M-SWssCf_Mbh",
    "outputId": "ce0c4ada-e480-46dd-b2fa-b07a1bf13079"
   },
   "outputs": [
    {
     "data": {
      "text/html": [
       "<div>\n",
       "<style scoped>\n",
       "    .dataframe tbody tr th:only-of-type {\n",
       "        vertical-align: middle;\n",
       "    }\n",
       "\n",
       "    .dataframe tbody tr th {\n",
       "        vertical-align: top;\n",
       "    }\n",
       "\n",
       "    .dataframe thead th {\n",
       "        text-align: right;\n",
       "    }\n",
       "</style>\n",
       "<table border=\"1\" class=\"dataframe\">\n",
       "  <thead>\n",
       "    <tr style=\"text-align: right;\">\n",
       "      <th></th>\n",
       "      <th>category</th>\n",
       "      <th>sentiment</th>\n",
       "      <th>text</th>\n",
       "    </tr>\n",
       "  </thead>\n",
       "  <tbody>\n",
       "    <tr>\n",
       "      <th>0</th>\n",
       "      <td>music</td>\n",
       "      <td>neg</td>\n",
       "      <td>i bought this album because i loved the title ...</td>\n",
       "    </tr>\n",
       "    <tr>\n",
       "      <th>1</th>\n",
       "      <td>music</td>\n",
       "      <td>neg</td>\n",
       "      <td>i was misled and thought i was buying the enti...</td>\n",
       "    </tr>\n",
       "    <tr>\n",
       "      <th>2</th>\n",
       "      <td>books</td>\n",
       "      <td>neg</td>\n",
       "      <td>i have introduced many of my ell , high school...</td>\n",
       "    </tr>\n",
       "    <tr>\n",
       "      <th>3</th>\n",
       "      <td>books</td>\n",
       "      <td>pos</td>\n",
       "      <td>anything you purchase in the left behind serie...</td>\n",
       "    </tr>\n",
       "    <tr>\n",
       "      <th>4</th>\n",
       "      <td>dvd</td>\n",
       "      <td>pos</td>\n",
       "      <td>i loved these movies , and i cant wiat for the...</td>\n",
       "    </tr>\n",
       "  </tbody>\n",
       "</table>\n",
       "</div>"
      ],
      "text/plain": [
       "  category sentiment                                               text\n",
       "0    music       neg  i bought this album because i loved the title ...\n",
       "1    music       neg  i was misled and thought i was buying the enti...\n",
       "2    books       neg  i have introduced many of my ell , high school...\n",
       "3    books       pos  anything you purchase in the left behind serie...\n",
       "4      dvd       pos  i loved these movies , and i cant wiat for the..."
      ]
     },
     "execution_count": 2,
     "metadata": {},
     "output_type": "execute_result"
    }
   ],
   "source": [
    "df.head()"
   ]
  },
  {
   "cell_type": "markdown",
   "metadata": {
    "id": "SZ2B4t_m_Mbi"
   },
   "source": [
    "## Problem 1: K-means clustering"
   ]
  },
  {
   "cell_type": "markdown",
   "metadata": {
    "id": "tP7uUIoD_Mbi"
   },
   "source": [
    "Your first task is to cluster the product review data using a tf–idf vectorizer and a $k$-means clusterer."
   ]
  },
  {
   "cell_type": "markdown",
   "metadata": {
    "id": "cSR_SGFV_Mbj"
   },
   "source": [
    "Start by doing the vectorization. In connection with vectorization, you should also filter out standard English stop words. While you could use [spaCy](https://spacy.io/) for this task, here it suffices to use the word list implemented in [TfidfVectorizer](https://scikit-learn.org/stable/modules/generated/sklearn.feature_extraction.text.TfidfVectorizer.html)."
   ]
  },
  {
   "cell_type": "code",
   "execution_count": 3,
   "metadata": {
    "id": "Pky7fKSZ_Mbj"
   },
   "outputs": [],
   "source": [
    "# TODO: Enter code here to vectorize the data and store it in a variable `reviews`\n",
    "from sklearn.feature_extraction.text import TfidfVectorizer\n",
    "from sklearn.cluster import KMeans\n",
    "Vector = TfidfVectorizer(analyzer = 'word',stop_words='english')\n",
    "y = df['text']\n",
    "reviews = Vector.fit_transform(y)"
   ]
  },
  {
   "cell_type": "markdown",
   "metadata": {
    "id": "FbW1nvCR_Mbk"
   },
   "source": [
    "Test your vectorization by running the following code cell:"
   ]
  },
  {
   "cell_type": "code",
   "execution_count": 4,
   "metadata": {
    "id": "so7dMV0L_Mbk",
    "outputId": "9bb622b2-b810-4748-d852-f05735ee6626"
   },
   "outputs": [
    {
     "data": {
      "text/plain": [
       "(11914, 46619)"
      ]
     },
     "execution_count": 4,
     "metadata": {},
     "output_type": "execute_result"
    }
   ],
   "source": [
    "reviews.shape"
   ]
  },
  {
   "cell_type": "markdown",
   "metadata": {
    "id": "mnEOYQwR_Mbl"
   },
   "source": [
    "If you used the English stop word list from scikit-learn, then the resulting vocabulary should have 46,619 entries."
   ]
  },
  {
   "cell_type": "markdown",
   "metadata": {
    "id": "Thhe5668_Mbl"
   },
   "source": [
    "Next, cluster the vectorized data. Before doing so, you should read the documentation of the [KMeans](https://scikit-learn.org/stable/modules/generated/sklearn.cluster.KMeans.html) class, which is scikit-learn&rsquo;s implementation of the $k$-means algorithm. As you can see, this class has several parameters that you can tweak. For now, the only parameter that you will have to set is the number of clusters. We recommend that you choose $k=3$.\n",
    "\n",
    "**Tip:** Training $k$-means models will take some time. To speed things up, you can use the `n_init` parameter to control the number of times that the clustering is re-computed with different initial values. The default value for this parameter is 10; here and in the rest of this lab, you may want to set this to a lower value."
   ]
  },
  {
   "cell_type": "code",
   "execution_count": 5,
   "metadata": {
    "id": "wq9_SCBR_Mbl"
   },
   "outputs": [],
   "source": [
    "# TODO: Enter code here to cluster the vectorized data\n",
    "model = KMeans(n_clusters=3,random_state=12345)"
   ]
  },
  {
   "cell_type": "code",
   "execution_count": 6,
   "metadata": {
    "id": "HbXobnE0_Mbl",
    "outputId": "ed870df0-c70f-47ce-c267-e62f66520acd"
   },
   "outputs": [
    {
     "data": {
      "text/plain": [
       "KMeans(n_clusters=3, random_state=12345)"
      ]
     },
     "execution_count": 6,
     "metadata": {},
     "output_type": "execute_result"
    }
   ],
   "source": [
    "model.fit(reviews)"
   ]
  },
  {
   "cell_type": "markdown",
   "metadata": {
    "id": "A6dUPYi-_Mbm"
   },
   "source": [
    "To sanity-check your clustering, create a bar plot with the number of documents per cluster."
   ]
  },
  {
   "cell_type": "code",
   "execution_count": 7,
   "metadata": {
    "id": "4nIgVCIC_Mbm",
    "outputId": "903ac114-254f-43a9-c826-e5af45b09a2d"
   },
   "outputs": [
    {
     "data": {
      "text/plain": [
       "<AxesSubplot:>"
      ]
     },
     "execution_count": 7,
     "metadata": {},
     "output_type": "execute_result"
    },
    {
     "data": {
      "image/png": "[encoded data removed]",
      "text/plain": [
       "<Figure size 432x288 with 1 Axes>"
      ]
     },
     "metadata": {
      "needs_background": "light"
     },
     "output_type": "display_data"
    }
   ],
   "source": [
    "# TODO: Enter code here to produce a bar plot of the cluster size\n",
    "height = pd.value_counts(model.labels_)\n",
    "height.plot(kind='bar')"
   ]
  },
  {
   "cell_type": "markdown",
   "metadata": {
    "id": "1SQyXbR5_Mbm"
   },
   "source": [
    "Note that sizes may vary considerable between clusters and among different random seeds."
   ]
  },
  {
   "cell_type": "markdown",
   "metadata": {
    "id": "DygNdoEQ_Mbm"
   },
   "source": [
    "## Problem 2: Summarize clusters"
   ]
  },
  {
   "cell_type": "markdown",
   "metadata": {
    "id": "4CaPG_sw_Mbm"
   },
   "source": [
    "Once you have a clustering, you can try to see whether it is meaningful. One useful technique in that context is to generate a **summary** for each cluster by extracting the $n$ highest-weighted terms from the centroid of each cluster. Your next task is to implement this approach.\n",
    "\n",
    "**Hint:** You will need to construct an &lsquo;inverted vocabulary&rsquo; that allows you to map from the index of a term back to the original term."
   ]
  },
  {
   "cell_type": "code",
   "execution_count": 8,
   "metadata": {
    "id": "PVaadB2p_Mbn"
   },
   "outputs": [],
   "source": [
    "import numpy as np\n",
    "word = {v:k for k,v in Vector.vocabulary_.items()}"
   ]
  },
  {
   "cell_type": "code",
   "execution_count": 9,
   "metadata": {
    "id": "Z_rV1XiA_Mbn"
   },
   "outputs": [],
   "source": [
    "# TODO: Enter code here to compute the cluster summaries and print them\n",
    "def summary(model,n):\n",
    "    gg = list()\n",
    "    centroids = model.cluster_centers_\n",
    "    highest_count = np.argsort(centroids, axis=1)[:, -n:]\n",
    "    for i, idxs in enumerate(highest_count):\n",
    "        index = highest_count[i,:]\n",
    "        g = {i:[word[j] for j in index]}\n",
    "        gg.append(g)\n",
    "    return(gg)"
   ]
  },
  {
   "cell_type": "code",
   "execution_count": 10,
   "metadata": {
    "id": "sjQbcyyS_Mbn",
    "outputId": "85d96be0-3d3b-4ab6-9c05-6eb0ab250034"
   },
   "outputs": [
    {
     "data": {
      "text/plain": [
       "[{0: ['time',\n",
       "   'use',\n",
       "   'album',\n",
       "   'cd',\n",
       "   'good',\n",
       "   'just',\n",
       "   'great',\n",
       "   'movie',\n",
       "   'product',\n",
       "   'like']},\n",
       " {1: ['good',\n",
       "   'just',\n",
       "   'like',\n",
       "   'quot',\n",
       "   'story',\n",
       "   'reading',\n",
       "   'author',\n",
       "   'books',\n",
       "   'read',\n",
       "   'book']},\n",
       " {2: ['great',\n",
       "   'quality',\n",
       "   'flash',\n",
       "   'battery',\n",
       "   'use',\n",
       "   'digital',\n",
       "   'canon',\n",
       "   'pictures',\n",
       "   'lens',\n",
       "   'camera']}]"
      ]
     },
     "execution_count": 10,
     "metadata": {},
     "output_type": "execute_result"
    }
   ],
   "source": [
    "summary(model,10)"
   ]
  },
  {
   "cell_type": "markdown",
   "metadata": {
    "id": "Gx3tkcGn_Mbn"
   },
   "source": [
    "Once you have computed the cluster summaries, discuss their quality. Is it clear what the reviews in a given cluster are about? Which clusters are clearest? Which are less clear? Do the cluster summaries contain any unexpected terms? What happens if you re-cluster with, say, $k=6$?"
   ]
  },
  {
   "cell_type": "markdown",
   "metadata": {
    "id": "Em99GgtZ_Mbn"
   },
   "source": [
    "The clusters formed are clear and the most clear cluster is cluster 2. The cluster 2 is review is about camera and it feature. "
   ]
  },
  {
   "cell_type": "markdown",
   "metadata": {
    "id": "WQxwmJE9_Mbo"
   },
   "source": [
    "The cluster 0 contain words about movies and albums.  \n",
    "The cluster 1 contain word about books.  \n",
    "The cluster 2 contain words about camera.  "
   ]
  },
  {
   "cell_type": "code",
   "execution_count": 11,
   "metadata": {
    "id": "sFxrApUP_Mbo",
    "outputId": "610002be-2fc0-4e66-b495-7f8349ec95b7"
   },
   "outputs": [
    {
     "data": {
      "text/plain": [
       "KMeans(n_clusters=6)"
      ]
     },
     "execution_count": 11,
     "metadata": {},
     "output_type": "execute_result"
    }
   ],
   "source": [
    "model1 = KMeans(n_clusters=6)\n",
    "model1.fit(reviews)"
   ]
  },
  {
   "cell_type": "code",
   "execution_count": 12,
   "metadata": {
    "id": "jAbFX80a_Mbo",
    "outputId": "5e1fac34-b6be-4200-81d0-158488c2477e"
   },
   "outputs": [
    {
     "data": {
      "text/plain": [
       "[{0: ['time',\n",
       "   'love',\n",
       "   'really',\n",
       "   'just',\n",
       "   'dvd',\n",
       "   'great',\n",
       "   'good',\n",
       "   'like',\n",
       "   'film',\n",
       "   'movie']},\n",
       " {1: ['time',\n",
       "   'work',\n",
       "   'does',\n",
       "   'used',\n",
       "   'easy',\n",
       "   'hair',\n",
       "   'program',\n",
       "   'software',\n",
       "   'use',\n",
       "   'product']},\n",
       " {2: ['good',\n",
       "   'written',\n",
       "   'just',\n",
       "   'story',\n",
       "   'like',\n",
       "   'reading',\n",
       "   'author',\n",
       "   'books',\n",
       "   'read',\n",
       "   'book']},\n",
       " {3: ['good',\n",
       "   'great',\n",
       "   'song',\n",
       "   'like',\n",
       "   'just',\n",
       "   'music',\n",
       "   'album',\n",
       "   'cd',\n",
       "   'book',\n",
       "   'quot']},\n",
       " {4: ['great',\n",
       "   'quality',\n",
       "   'battery',\n",
       "   'flash',\n",
       "   'use',\n",
       "   'digital',\n",
       "   'canon',\n",
       "   'pictures',\n",
       "   'lens',\n",
       "   'camera']},\n",
       " {5: ['good',\n",
       "   'band',\n",
       "   'great',\n",
       "   'just',\n",
       "   'like',\n",
       "   'song',\n",
       "   'songs',\n",
       "   'music',\n",
       "   'cd',\n",
       "   'album']}]"
      ]
     },
     "execution_count": 12,
     "metadata": {},
     "output_type": "execute_result"
    }
   ],
   "source": [
    "summary(model1,10)"
   ]
  },
  {
   "cell_type": "markdown",
   "metadata": {
    "id": "MvIZehIh_Mbo"
   },
   "source": [
    "*TODO: Insert your analysis of the clusters here*"
   ]
  },
  {
   "cell_type": "markdown",
   "metadata": {
    "id": "nV8ooGv3_Mbo"
   },
   "source": [
    "When number of cluster is 6, The cluster formed had more different words which should not be in the cluster. In cluster 0, the cluster explains about software but the word \"hair\" does not belong in this cluster. There are two clusters formed based on music. We are basically forcing the algorithm to form more clusters than required, or K-means is not competent to find smaller topic before divide one bigger cluster.\n",
    "\n",
    " This shows two weakness of too many clusters:1, small clusters are more sensitive to noise on boundary between different clusters. 2,Too many clusters might wrongly divide a topic into different clusters.\n",
    "\n",
    "Consider a case we have a topic with 1000 observations and want to find another topic with 100 observations. We should not blame K-means for the second weakness."
   ]
  },
  {
   "cell_type": "markdown",
   "metadata": {
    "id": "iWKUyY3l_Mbo"
   },
   "source": [
    "## Problem 3: Compare clusterings using the Rand index"
   ]
  },
  {
   "cell_type": "markdown",
   "metadata": {
    "id": "l3zEP3rj_Mbo"
   },
   "source": [
    "In some scenarios, you may have gold-standard class labels available for at least a subset of your documents. In these cases you can compute the **Rand index** of a clustering, and use this measure to compare the quality of different clusterings.\n",
    "\n",
    "To compute the Rand index, we view a clustering as a binary classifier on (unordered) pairs of documents. The classifier predicts &lsquo;positive&rsquo; if and only if the two documents belong to the same cluster. The (non-normalized) Rand index of the clustering is the accuracy of this classifier relative to a reference in which a document pair belongs to the &lsquo;positive&rsquo; class if and only if the two documents in the pair have the same gold-standard class label.\n",
    "\n",
    "Compare clusterings with $k \\in \\{1,3,5,7\\}$ clusters. As your evaluation data, use the first 500 documents from the original data set along with their gold-standard categories (from the `category` column). What do you observe? How do you interpret your observations?"
   ]
  },
  {
   "cell_type": "code",
   "execution_count": 13,
   "metadata": {
    "id": "GRkkIoEM_Mbp"
   },
   "outputs": [],
   "source": [
    "# TODO: Enter code here to compute the Rand indices for the two clusterings\n",
    "from sklearn.metrics import silhouette_score\n",
    "from itertools import combinations\n",
    "from scipy.special import comb\n",
    "\n",
    "k = [1,3,5,7]\n",
    "test = df[:500]\n",
    "y_true = test.category\n",
    "x_test = reviews[:500]\n",
    "\n",
    "def rand_score (labels_true, labels_pred):\n",
    "    my_pair = list(combinations(range(len(labels_true)), 2))\n",
    "    def is_equal(x):\n",
    "        return (x[0]==x[1])\n",
    "    my_a = 0\n",
    "    my_b = 0\n",
    "    for i in range(len(my_pair)):\n",
    "            if(is_equal((labels_true[my_pair[i][0]],labels_true[my_pair[i][1]])) == is_equal((labels_pred[my_pair[i][0]],labels_pred[my_pair[i][1]])) \n",
    "               and is_equal((labels_pred[my_pair[i][0]],labels_pred[my_pair[i][1]])) == True):\n",
    "                my_a += 1\n",
    "            if(is_equal((labels_true[my_pair[i][0]],labels_true[my_pair[i][1]])) == is_equal((labels_pred[my_pair[i][0]],labels_pred[my_pair[i][1]])) \n",
    "               and is_equal((labels_pred[my_pair[i][0]],labels_pred[my_pair[i][1]])) == False):\n",
    "                my_b += 1\n",
    "    my_denom = comb(len(labels_true),2)\n",
    "    ri = (my_a + my_b) / my_denom\n",
    "    return ri\n",
    "\n",
    "rand_list = list()\n",
    "for i in k:\n",
    "        model2 = KMeans(n_clusters=i)\n",
    "        model2.fit(reviews)\n",
    "        y_predict = model2.predict(x_test)\n",
    "        rand_list.append(rand_score(labels_true=y_true,labels_pred=y_predict))"
   ]
  },
  {
   "cell_type": "code",
   "execution_count": 14,
   "metadata": {
    "id": "tEtkXlcF_Mbp",
    "outputId": "2b62c64d-014d-4d09-977d-83847ff7a9c7"
   },
   "outputs": [
    {
     "name": "stdout",
     "output_type": "stream",
     "text": [
      "The rand score for K = 1 is 0.16626052104208416\n",
      "The rand score for K = 3 is 0.5614589178356714\n",
      "The rand score for K = 5 is 0.6764729458917835\n",
      "The rand score for K = 7 is 0.7626773547094189\n"
     ]
    }
   ],
   "source": [
    "for i in range(4):\n",
    "    print(f\"The rand score for K = {k[i]} is {rand_list[i]}\")"
   ]
  },
  {
   "cell_type": "markdown",
   "metadata": {
    "id": "hs1F565E_Mbp"
   },
   "source": [
    "*TODO: Insert your discussion of your results here*\n",
    "\n",
    "We can see the with higher K, the Rand index is larger. This suggest that our assumption in last problem is right, which means even we find two clusters share the same topic, there are still unidentified topic remained.\n"
   ]
  },
  {
   "cell_type": "markdown",
   "metadata": {
    "id": "F72XLybv_Mbp"
   },
   "source": [
    "## Topic modelling data set"
   ]
  },
  {
   "cell_type": "markdown",
   "metadata": {
    "id": "28A6FyEz_Mbp"
   },
   "source": [
    "The data set for the topic modelling part of this lab is the collection of all [State of the Union](https://en.wikipedia.org/wiki/State_of_the_Union) addresses from the years 1975–2000. These speeches come as a single text file with one sentence per line. The following code cell prints the first 5 lines from the data file:"
   ]
  },
  {
   "cell_type": "code",
   "execution_count": 15,
   "metadata": {
    "id": "uZWw2G44_Mbq",
    "outputId": "301fafc1-db42-4a3a-db11-edea82a0d2bd"
   },
   "outputs": [
    {
     "name": "stdout",
     "output_type": "stream",
     "text": [
      "mr speaker mr vice president members of the 94th congress and distinguished guests\n",
      "twenty six years ago a freshman congressman a young fellow with lots of idealism who was out to change the world stood before sam rayburn in the well of the house and solemnly swore to the same oath that all of you took yesterday an unforgettable experience and i congratulate you all\n",
      "two days later that same freshman stood at the back of this great chamber over there someplace as president truman all charged up by his single handed election victory reported as the constitution requires on the state of the union\n",
      "when the bipartisan applause stopped president truman said i am happy to report to this 81st congress that the state of the union is good our nation is better able than ever before to meet the needs of the american people and to give them their fair chance in the pursuit of happiness it is foremost among the nations of the world in the search for peace\n",
      "today that freshman member from michigan stands where mr truman stood and i must say to you that the state of the union is not good\n",
      "millions of americans are out of work\n"
     ]
    }
   ],
   "source": [
    "with open('sotu_1975_2000.txt') as source:\n",
    "    for i, line in enumerate(source):\n",
    "        print(line.rstrip())\n",
    "        if i >= 5:\n",
    "            break"
   ]
  },
  {
   "cell_type": "markdown",
   "metadata": {
    "id": "Uvc7ATKB_Mbq"
   },
   "source": [
    "Take a few minutes to think about what topics you would expect in this data set."
   ]
  },
  {
   "cell_type": "markdown",
   "metadata": {
    "id": "PeB3lUsN_Mbq"
   },
   "source": [
    "The brief of some politicans of state of the union in United States. The congressman talks unemployment and economy.  They focus more on how the congressman had satisfied the american people than the previous party."
   ]
  },
  {
   "cell_type": "markdown",
   "metadata": {
    "id": "QHve54ED_Mbq"
   },
   "source": [
    "## Problem 4: Train a topic model"
   ]
  },
  {
   "cell_type": "markdown",
   "metadata": {
    "id": "8cJnlFox_Mbq"
   },
   "source": [
    "Your first task on the topic modelling data is to train an LDA model. For this task you will be using [spaCy](https://spacy.io/) and the [gensim](https://radimrehurek.com/gensim/) topic modelling library.\n",
    "\n",
    "Start by preprocessing the data using spaCy. Given that the data set for this problem is rather small, you do not have to exclude any components from the standard pipeline. Filter out stop words, non-alphabetic tokens, and tokens less than 3 characters in length. Store the documents as a nested list where the first level of nesting corresponds to the sentences and the second level corresponds to the tokens in each sentence."
   ]
  },
  {
   "cell_type": "code",
   "execution_count": 16,
   "metadata": {
    "id": "tb-IwdH6_Mbq"
   },
   "outputs": [],
   "source": [
    "# TODO: Replace the following lines with your own code for preprocessing the documents\n",
    "import spacy\n",
    "nlp = spacy.load(\"en_core_web_sm\")\n",
    "def preprocess(text):\n",
    "    doc = nlp(text)\n",
    "    token_list = []\n",
    "    for token in doc:\n",
    "        if token.is_stop == False and token.lemma_.isalpha() == True and len(token)>=3:\n",
    "            token_list.append(token.lemma_)\n",
    "    return token_list\n",
    "\n",
    "with open('sotu_1975_2000.txt') as source:\n",
    "    documents = [preprocess(line) for line in source]\n",
    "        "
   ]
  },
  {
   "cell_type": "markdown",
   "metadata": {
    "id": "yFfL9eqY_Mbr"
   },
   "source": [
    "Test your preprocessing by running the following cell:"
   ]
  },
  {
   "cell_type": "code",
   "execution_count": 17,
   "metadata": {
    "id": "sCC50_0B_Mbr",
    "outputId": "2e0e24fb-89ba-4dcb-d682-05bc8227a612"
   },
   "outputs": [
    {
     "data": {
      "text/plain": [
       "'reduce oil import million barrel day end year million barrel day end'"
      ]
     },
     "execution_count": 17,
     "metadata": {},
     "output_type": "execute_result"
    }
   ],
   "source": [
    "' '.join(documents[42])"
   ]
  },
  {
   "cell_type": "markdown",
   "metadata": {
    "id": "3nab8-2l_Mbr"
   },
   "source": [
    "You should get the following output:"
   ]
  },
  {
   "cell_type": "raw",
   "metadata": {
    "id": "tBlpXsRv_Mbr"
   },
   "source": [
    "'reduce oil imports million barrels day end year million barrels day end'"
   ]
  },
  {
   "cell_type": "markdown",
   "metadata": {
    "id": "-yjj-mF0_Mbr"
   },
   "source": [
    "Once you have the list of documents, skim the section [Pre-process and vectorize the documents](https://radimrehurek.com/gensim/auto_examples/tutorials/run_lda.html#pre-process-and-vectorize-the-documents) of the gensim documentation to learn how to create the dictionary and the vectorized corpus representation required by gensim. (Note that you cannot use the standard scikit-learn pipeline in this case.) Then, write code to train an [LdaModel](https://radimrehurek.com/gensim/models/ldamodel.html) for $k=10$ topics, and using default values for all other parameters."
   ]
  },
  {
   "cell_type": "code",
   "execution_count": 18,
   "metadata": {
    "id": "mmOMSAam_Mbr"
   },
   "outputs": [],
   "source": [
    "# TODO: Enter code here to train an LDA model and store it in a variable `model`\n",
    "from gensim.models import LdaModel\n",
    "from gensim.corpora import Dictionary\n",
    "# create a dictionary\n",
    "dictionary = Dictionary(documents)\n",
    "# Bag-of-words representation of the documents.\n",
    "corpus = [dictionary.doc2bow(doc) for doc in documents]\n",
    "\n",
    "# Set training parameters.\n",
    "num_topics = 10\n",
    "\n",
    "model = LdaModel(\n",
    "    corpus=corpus,\n",
    "    num_topics=num_topics,\n",
    "    id2word=dictionary\n",
    ")"
   ]
  },
  {
   "cell_type": "markdown",
   "metadata": {
    "id": "Qa_LjKrW_Mbr"
   },
   "source": [
    "Once you have a trained model, run the following cell to print the topics:"
   ]
  },
  {
   "cell_type": "code",
   "execution_count": 19,
   "metadata": {
    "id": "F0SS8EMR_Mbs",
    "outputId": "72de3f0c-8895-4a94-8104-4e833b0d9b20"
   },
   "outputs": [
    {
     "data": {
      "text/plain": [
       "[(0,\n",
       "  '0.018*\"school\" + 0.015*\"child\" + 0.008*\"grade\" + 0.008*\"parent\" + 0.008*\"covenant\" + 0.008*\"year\" + 0.007*\"work\" + 0.007*\"house\" + 0.006*\"help\" + 0.006*\"new\"'),\n",
       " (1,\n",
       "  '0.017*\"work\" + 0.016*\"year\" + 0.011*\"care\" + 0.010*\"congress\" + 0.010*\"americans\" + 0.010*\"million\" + 0.009*\"health\" + 0.009*\"need\" + 0.009*\"new\" + 0.008*\"people\"'),\n",
       " (2,\n",
       "  '0.017*\"year\" + 0.017*\"child\" + 0.012*\"family\" + 0.011*\"people\" + 0.009*\"america\" + 0.009*\"work\" + 0.008*\"cut\" + 0.007*\"new\" + 0.006*\"thank\" + 0.006*\"parent\"'),\n",
       " (3,\n",
       "  '0.018*\"year\" + 0.014*\"america\" + 0.010*\"american\" + 0.009*\"people\" + 0.008*\"nation\" + 0.008*\"security\" + 0.008*\"work\" + 0.007*\"new\" + 0.007*\"world\" + 0.007*\"welfare\"'),\n",
       " (4,\n",
       "  '0.023*\"year\" + 0.018*\"people\" + 0.012*\"america\" + 0.011*\"work\" + 0.008*\"government\" + 0.008*\"world\" + 0.008*\"let\" + 0.008*\"american\" + 0.006*\"child\" + 0.006*\"congress\"'),\n",
       " (5,\n",
       "  '0.013*\"college\" + 0.013*\"new\" + 0.011*\"education\" + 0.010*\"year\" + 0.007*\"opportunity\" + 0.006*\"american\" + 0.006*\"economic\" + 0.005*\"right\" + 0.005*\"school\" + 0.005*\"world\"'),\n",
       " (6,\n",
       "  '0.013*\"people\" + 0.013*\"america\" + 0.012*\"new\" + 0.010*\"help\" + 0.009*\"challenge\" + 0.009*\"work\" + 0.008*\"child\" + 0.007*\"want\" + 0.007*\"community\" + 0.007*\"drug\"'),\n",
       " (7,\n",
       "  '0.016*\"year\" + 0.011*\"gun\" + 0.011*\"child\" + 0.010*\"new\" + 0.008*\"government\" + 0.008*\"federal\" + 0.006*\"budget\" + 0.006*\"support\" + 0.006*\"nuclear\" + 0.006*\"million\"'),\n",
       " (8,\n",
       "  '0.015*\"work\" + 0.013*\"world\" + 0.011*\"america\" + 0.011*\"know\" + 0.010*\"new\" + 0.010*\"nation\" + 0.008*\"help\" + 0.008*\"trade\" + 0.008*\"right\" + 0.008*\"year\"'),\n",
       " (9,\n",
       "  '0.013*\"new\" + 0.011*\"government\" + 0.009*\"program\" + 0.009*\"work\" + 0.008*\"year\" + 0.008*\"congress\" + 0.008*\"budget\" + 0.007*\"help\" + 0.006*\"federal\" + 0.006*\"child\"')]"
      ]
     },
     "execution_count": 19,
     "metadata": {},
     "output_type": "execute_result"
    }
   ],
   "source": [
    "model.print_topics()"
   ]
  },
  {
   "cell_type": "markdown",
   "metadata": {
    "id": "j-VjB9yK_Mbs"
   },
   "source": [
    "Inspect the topics. Can you &lsquo;label&rsquo; each topic with a short description of what it is about? Do the topics match your expectations? Summarize your discussion in a short text."
   ]
  },
  {
   "cell_type": "markdown",
   "metadata": {
    "id": "60UJU911_Mbs"
   },
   "source": [
    "*TODO: Insert your discussion of the topics here*\n",
    "\n",
    "The #i topic is about:\n",
    "\n",
    "0: Quantity of jobs,which also involves tax,bussiness and family.\n",
    "\n",
    "1: New thing about right, regarding community and nation, law and program involed.\n",
    "\n",
    "2: Also about work, but \"american\" and \"america\" suggests this topic is about individual and government. \"welfare\" is also included.\n",
    "\n",
    "3: Work and security of social, americans' life might be discussed.\n",
    "\n",
    "4: Children,which involves school,parent,and teacher.\n",
    "\n",
    "5: Budget from congress, which might is about some program about work.\n",
    "\n",
    "6: Children again, which involves health care.\n",
    "\n",
    "7: Work and economy.\n",
    "\n",
    "8: Challenge.\n",
    "\n",
    "9: We cannot lable this one, it is too messy.\n",
    "\n",
    "In genreal, this result is of our expectation, which mainly focus on work and relevent social issue. However, some topics are more hard to understand than others. Topic 9 is impossible to show a main idea."
   ]
  },
  {
   "cell_type": "markdown",
   "metadata": {
    "id": "TchXvias_Mbs"
   },
   "source": [
    "## Problem 5: Monitor a topic model for convergence"
   ]
  },
  {
   "cell_type": "markdown",
   "metadata": {
    "id": "jqOCoVNe_Mbs"
   },
   "source": [
    "When learning an LDA model, it is important to make sure that the training algorithm has converged to a stable posterior distribution. One way to do so is to plot, after each training epochs (or &lsquo;pass&rsquo;, in gensim parlance) the log likelihood of the training data under the posterior. Your last task in this lab is to create such a plot and, based on this, to suggest an appropriate number of epochs.\n",
    "\n",
    "To collect information about the posterior likelihood after each pass, we need to enable the logging facilities of gensim. Once this is done, gensim will add various diagnostics to a log file `gensim.log`."
   ]
  },
  {
   "cell_type": "code",
   "execution_count": 20,
   "metadata": {
    "id": "B2Bpf2Yn_Mbs"
   },
   "outputs": [],
   "source": [
    "import logging\n",
    "\n",
    "logging.basicConfig(filename='gensim.log', format='%(asctime)s:%(levelname)s:%(message)s', level=logging.INFO)"
   ]
  },
  {
   "cell_type": "markdown",
   "metadata": {
    "id": "Lz_71wEM_Mbs"
   },
   "source": [
    "The following function will parse the generated logfile and return the list of log likelihoods."
   ]
  },
  {
   "cell_type": "code",
   "execution_count": 21,
   "metadata": {
    "id": "TQZEMRcU_Mbt"
   },
   "outputs": [],
   "source": [
    "import re\n",
    "\n",
    "def parse_logfile():\n",
    "    matcher = re.compile('(-*\\d+\\.\\d+) per-word .* (\\d+\\.\\d+) perplexity')\n",
    "    likelihoods = []\n",
    "    with open('gensim.log') as source:\n",
    "        for line in source:\n",
    "            match = matcher.search(line)\n",
    "            if match:\n",
    "                likelihoods.append(float(match.group(1)))\n",
    "    return likelihoods"
   ]
  },
  {
   "cell_type": "markdown",
   "metadata": {
    "id": "h0U6EqnO_Mbt"
   },
   "source": [
    "Your task now is to re-train your LDA model for 50&nbsp;passes, retrieve the list of log likelihoods, and create a plot from this data."
   ]
  },
  {
   "cell_type": "code",
   "execution_count": 22,
   "metadata": {
    "id": "ub1GHJYx_Mbt",
    "outputId": "5f201de2-364a-4110-a6c8-8c75127fb49e"
   },
   "outputs": [
    {
     "data": {
      "text/plain": [
       "<AxesSubplot:>"
      ]
     },
     "execution_count": 22,
     "metadata": {},
     "output_type": "execute_result"
    },
    {
     "data": {
      "image/png": "[encoded data removed]",
      "text/plain": [
       "<Figure size 432x288 with 1 Axes>"
      ]
     },
     "metadata": {
      "needs_background": "light"
     },
     "output_type": "display_data"
    }
   ],
   "source": [
    "# TODO: Enter code here to generate the convergence plot\n",
    "model = LdaModel(corpus, num_topics=num_topics, id2word=dictionary, passes=50)\n",
    "llh = parse_logfile()\n",
    "pd.Series(llh[:50]).plot()"
   ]
  },
  {
   "cell_type": "markdown",
   "metadata": {
    "id": "tyOkHEMN_Mbu"
   },
   "source": [
    "How do you interpret your plot? Based on the plot, what would be a reasonable choice for the number of passes? Retrain your LDA model with that number and re-inspect the topics it finds. Do you consider the new topics to be &lsquo;better&rsquo; than the ones that you got from the 1-pass model in Problem&nbsp;5?"
   ]
  },
  {
   "cell_type": "markdown",
   "metadata": {
    "id": "78Olr2Gr_Mbv"
   },
   "source": [
    "*TODO: Insert your discussion of these questions here*\n",
    "\n",
    "We can see the model should have reach a convergence in 50-passes. It is obviously to see it reach the convergence after 10 passes. However, it is hard to say when it is exactly converged. We suggest it should be less than 30 passes, and then retrain the model with 10-passes,20-passes and 30-passes. Here are the results. More discussion can be found under the results."
   ]
  },
  {
   "cell_type": "code",
   "execution_count": 23,
   "metadata": {
    "id": "EEDpNCt3_Mbt",
    "outputId": "aca3fa1a-d169-4ef6-9786-155657eb66ee"
   },
   "outputs": [
    {
     "data": {
      "text/plain": [
       "[(0,\n",
       "  '0.014*\"security\" + 0.013*\"government\" + 0.013*\"people\" + 0.013*\"year\" + 0.012*\"work\" + 0.011*\"new\" + 0.011*\"america\" + 0.010*\"century\" + 0.009*\"child\" + 0.009*\"social\"'),\n",
       " (1,\n",
       "  '0.028*\"america\" + 0.022*\"world\" + 0.014*\"american\" + 0.013*\"people\" + 0.011*\"year\" + 0.011*\"nation\" + 0.010*\"new\" + 0.009*\"peace\" + 0.009*\"country\" + 0.009*\"freedom\"'),\n",
       " (2,\n",
       "  '0.034*\"child\" + 0.028*\"care\" + 0.025*\"health\" + 0.023*\"work\" + 0.021*\"family\" + 0.018*\"year\" + 0.017*\"million\" + 0.014*\"americans\" + 0.011*\"parent\" + 0.011*\"people\"'),\n",
       " (3,\n",
       "  '0.016*\"congress\" + 0.015*\"new\" + 0.012*\"reform\" + 0.011*\"act\" + 0.011*\"ask\" + 0.010*\"clean\" + 0.009*\"year\" + 0.009*\"administration\" + 0.008*\"pass\" + 0.008*\"bipartisan\"'),\n",
       " (4,\n",
       "  '0.011*\"american\" + 0.010*\"right\" + 0.010*\"human\" + 0.008*\"illegal\" + 0.007*\"problem\" + 0.006*\"remarkable\" + 0.006*\"equal\" + 0.005*\"life\" + 0.005*\"hold\" + 0.005*\"country\"'),\n",
       " (5,\n",
       "  '0.013*\"year\" + 0.013*\"nation\" + 0.013*\"nuclear\" + 0.013*\"energy\" + 0.010*\"policy\" + 0.008*\"economic\" + 0.008*\"world\" + 0.008*\"program\" + 0.008*\"continue\" + 0.007*\"states\"'),\n",
       " (6,\n",
       "  '0.052*\"school\" + 0.028*\"child\" + 0.017*\"teacher\" + 0.013*\"year\" + 0.013*\"high\" + 0.011*\"standard\" + 0.010*\"help\" + 0.010*\"good\" + 0.009*\"student\" + 0.009*\"challenge\"'),\n",
       " (7,\n",
       "  '0.020*\"work\" + 0.019*\"people\" + 0.016*\"congress\" + 0.015*\"welfare\" + 0.013*\"year\" + 0.012*\"know\" + 0.010*\"support\" + 0.010*\"let\" + 0.009*\"community\" + 0.009*\"government\"'),\n",
       " (8,\n",
       "  '0.023*\"year\" + 0.021*\"tax\" + 0.016*\"budget\" + 0.016*\"cut\" + 0.014*\"new\" + 0.012*\"job\" + 0.012*\"program\" + 0.010*\"family\" + 0.010*\"rate\" + 0.009*\"propose\"'),\n",
       " (9,\n",
       "  '0.020*\"crime\" + 0.011*\"community\" + 0.010*\"drug\" + 0.008*\"state\" + 0.008*\"east\" + 0.008*\"new\" + 0.008*\"need\" + 0.008*\"peace\" + 0.007*\"work\" + 0.007*\"america\"')]"
      ]
     },
     "execution_count": 23,
     "metadata": {},
     "output_type": "execute_result"
    }
   ],
   "source": [
    "model = LdaModel(\n",
    "corpus=corpus,\n",
    "num_topics=num_topics,\n",
    "id2word=dictionary,\n",
    "passes=10\n",
    ")\n",
    "model.print_topics()"
   ]
  },
  {
   "cell_type": "code",
   "execution_count": 24,
   "metadata": {
    "id": "db1E2vZI_Mbt",
    "outputId": "77c661f1-a1fb-4b8b-88c7-d4d8550de3d1"
   },
   "outputs": [
    {
     "data": {
      "text/plain": [
       "[(0,\n",
       "  '0.033*\"work\" + 0.029*\"child\" + 0.020*\"people\" + 0.016*\"family\" + 0.015*\"care\" + 0.014*\"year\" + 0.013*\"welfare\" + 0.012*\"health\" + 0.011*\"know\" + 0.011*\"let\"'),\n",
       " (1,\n",
       "  '0.012*\"congress\" + 0.010*\"administration\" + 0.010*\"reform\" + 0.009*\"policy\" + 0.008*\"system\" + 0.008*\"gun\" + 0.008*\"increase\" + 0.007*\"legislation\" + 0.007*\"new\" + 0.007*\"year\"'),\n",
       " (2,\n",
       "  '0.027*\"energy\" + 0.010*\"house\" + 0.009*\"conservation\" + 0.008*\"crime\" + 0.008*\"action\" + 0.007*\"food\" + 0.007*\"senate\" + 0.006*\"national\" + 0.006*\"korea\" + 0.006*\"farm\"'),\n",
       " (3,\n",
       "  '0.016*\"soviet\" + 0.016*\"security\" + 0.014*\"nation\" + 0.013*\"world\" + 0.012*\"peace\" + 0.012*\"military\" + 0.010*\"force\" + 0.010*\"defense\" + 0.010*\"united\" + 0.009*\"international\"'),\n",
       " (4,\n",
       "  '0.022*\"year\" + 0.021*\"program\" + 0.013*\"new\" + 0.013*\"government\" + 0.013*\"federal\" + 0.012*\"social\" + 0.011*\"security\" + 0.010*\"congress\" + 0.010*\"help\" + 0.010*\"need\"'),\n",
       " (5,\n",
       "  '0.017*\"peace\" + 0.014*\"nato\" + 0.013*\"woman\" + 0.013*\"africa\" + 0.012*\"law\" + 0.012*\"europe\" + 0.012*\"equal\" + 0.011*\"east\" + 0.009*\"asia\" + 0.009*\"nation\"'),\n",
       " (6,\n",
       "  '0.026*\"year\" + 0.014*\"new\" + 0.014*\"world\" + 0.014*\"economy\" + 0.013*\"america\" + 0.011*\"government\" + 0.011*\"budget\" + 0.010*\"economic\" + 0.009*\"growth\" + 0.007*\"deficit\"'),\n",
       " (7,\n",
       "  '0.034*\"school\" + 0.022*\"child\" + 0.013*\"education\" + 0.013*\"family\" + 0.012*\"drug\" + 0.011*\"teacher\" + 0.011*\"new\" + 0.011*\"help\" + 0.010*\"america\" + 0.010*\"ask\"'),\n",
       " (8,\n",
       "  '0.027*\"america\" + 0.020*\"people\" + 0.014*\"american\" + 0.011*\"americans\" + 0.011*\"let\" + 0.011*\"world\" + 0.011*\"tonight\" + 0.011*\"nation\" + 0.009*\"great\" + 0.009*\"good\"'),\n",
       " (9,\n",
       "  '0.013*\"weapon\" + 0.013*\"nuclear\" + 0.013*\"world\" + 0.010*\"year\" + 0.010*\"new\" + 0.009*\"trade\" + 0.008*\"right\" + 0.008*\"open\" + 0.008*\"nation\" + 0.008*\"start\"')]"
      ]
     },
     "execution_count": 24,
     "metadata": {},
     "output_type": "execute_result"
    }
   ],
   "source": [
    "model = LdaModel(\n",
    "corpus=corpus,\n",
    "num_topics=num_topics,\n",
    "id2word=dictionary,\n",
    "passes=20\n",
    ")\n",
    "model.print_topics()"
   ]
  },
  {
   "cell_type": "code",
   "execution_count": 25,
   "metadata": {
    "id": "ya-bOhbI_Mbt",
    "outputId": "f1b1a872-bad1-4d22-ad78-0d662863ab7c"
   },
   "outputs": [
    {
     "data": {
      "text/plain": [
       "[(0,\n",
       "  '0.018*\"trade\" + 0.018*\"new\" + 0.017*\"world\" + 0.016*\"country\" + 0.012*\"america\" + 0.011*\"nation\" + 0.010*\"market\" + 0.009*\"year\" + 0.009*\"international\" + 0.008*\"continue\"'),\n",
       " (1,\n",
       "  '0.027*\"crime\" + 0.013*\"america\" + 0.012*\"god\" + 0.012*\"gun\" + 0.011*\"police\" + 0.011*\"law\" + 0.009*\"thank\" + 0.009*\"community\" + 0.008*\"nation\" + 0.008*\"united\"'),\n",
       " (2,\n",
       "  '0.014*\"energy\" + 0.014*\"technology\" + 0.011*\"nation\" + 0.011*\"let\" + 0.010*\"drug\" + 0.009*\"congress\" + 0.008*\"america\" + 0.008*\"life\" + 0.008*\"science\" + 0.008*\"national\"'),\n",
       " (3,\n",
       "  '0.028*\"year\" + 0.017*\"work\" + 0.014*\"tax\" + 0.013*\"budget\" + 0.011*\"million\" + 0.011*\"cut\" + 0.010*\"program\" + 0.010*\"people\" + 0.009*\"welfare\" + 0.009*\"congress\"'),\n",
       " (4,\n",
       "  '0.018*\"nuclear\" + 0.014*\"policy\" + 0.012*\"program\" + 0.011*\"administration\" + 0.010*\"act\" + 0.010*\"continue\" + 0.010*\"force\" + 0.009*\"nation\" + 0.008*\"area\" + 0.008*\"woman\"'),\n",
       " (5,\n",
       "  '0.013*\"national\" + 0.010*\"bipartisan\" + 0.008*\"government\" + 0.008*\"world\" + 0.008*\"effort\" + 0.008*\"problem\" + 0.007*\"ban\" + 0.007*\"ask\" + 0.007*\"global\" + 0.007*\"test\"'),\n",
       " (6,\n",
       "  '0.019*\"year\" + 0.019*\"people\" + 0.013*\"american\" + 0.012*\"work\" + 0.012*\"president\" + 0.009*\"congress\" + 0.009*\"century\" + 0.009*\"time\" + 0.009*\"america\" + 0.009*\"americans\"'),\n",
       " (7,\n",
       "  '0.046*\"child\" + 0.020*\"know\" + 0.018*\"family\" + 0.018*\"work\" + 0.017*\"parent\" + 0.013*\"right\" + 0.009*\"safe\" + 0.009*\"want\" + 0.008*\"tell\" + 0.008*\"government\"'),\n",
       " (8,\n",
       "  '0.033*\"world\" + 0.031*\"america\" + 0.018*\"nation\" + 0.017*\"people\" + 0.017*\"union\" + 0.017*\"peace\" + 0.015*\"freedom\" + 0.014*\"strong\" + 0.011*\"state\" + 0.011*\"soviet\"'),\n",
       " (9,\n",
       "  '0.025*\"school\" + 0.017*\"community\" + 0.014*\"new\" + 0.013*\"help\" + 0.012*\"year\" + 0.011*\"education\" + 0.010*\"government\" + 0.009*\"child\" + 0.008*\"program\" + 0.008*\"congress\"')]"
      ]
     },
     "execution_count": 25,
     "metadata": {},
     "output_type": "execute_result"
    }
   ],
   "source": [
    "model = LdaModel(\n",
    "corpus=corpus,\n",
    "num_topics=num_topics,\n",
    "id2word=dictionary,\n",
    "passes=30\n",
    ")\n",
    "model.print_topics()"
   ]
  },
  {
   "cell_type": "markdown",
   "metadata": {
    "id": "k_fk4KADPAVa"
   },
   "source": [
    "It is obviously that all the three models are better than 1-pass model, for they all success in finding new topics, such as \"crime\",\"house\",\"peace\"and \"soviet\"(which is combined with \"security\" here, but not identified in 1-pass model).\n",
    "\n",
    "And we find that 20-passes model is better than 10-passes model for it identify \"clean\" \"environment\". \"Peace\" and \"Nuclear\" topics are clustered with more relevent words in 20-passes model too. \n",
    "\n",
    "However, \"environment\" is not identified in 30-passes model. And a brief inspection can show that result of 30-passes model is not as good as 20-passes model, at least not better.\n",
    "\n",
    "So our conclusion is that the model reach its convergence around 20-passes. More passes might not necessarily lead to better result, though it might lead to better log likelihoods."
   ]
  },
  {
   "cell_type": "markdown",
   "metadata": {},
   "source": [
    "## Reflection Questions"
   ]
  },
  {
   "cell_type": "markdown",
   "metadata": {},
   "source": [
    "**RQ 3.1:** Based on your experiments in Problem 2 and Problem 3, what is the relation between the quality of a clustering and the number of clusters? What happens when the number of clusters is too low, or too high? For this particular data set, what would a be good and optimal number of clusters be?\n",
    "\n",
    "In the plot we could consider it as elbow method. The sum of squared values increases until some K value but It will saturate after some point. If the number of cluster is smaller than gold-standard clasees,some observations in different class will be forced clusterd into one cluster. If the number of cluster is large, some observations in one same gold-standard classes will be seperated into different clusters,which is observed in problem 2. For this data set,according to rand-index, k=7 is not good enough. But in problem 2 we can see when k=6, the clusters are not as clear as when k=3. In this way, k=3 might be better.\n",
    "\n",
    "**RQ 3.2:** Explain why it is important to monitor an LDA model for convergence and not simply use, say, 1000 passes. How is the log likelihood used in this context? Were the topics from the multi-pass model 'better' than the topics from the 1-pass model?'\n",
    "\n",
    "If the number of passes increases, the documents will converge towards on one topic. The topic with all stopwords will be a outcome if the number of passes increase. So, we sould stop increasing the number of passes when the convergence of log likelihood is same between two consecutive iterations.  \n",
    "The topics from multi pass model is better than the 1 pass model.\n",
    "\n",
    "**RQ 3.3:** What are the differences between k-means and LDA? When would you use one, when the other?\n",
    "\n",
    "K means clusters based on N documents into K distinguish clusters.K means will perform better in topics detetction. Lda will assign the documents based on two or more topics. LDA will perform better for documents assigning in multiple topics."
   ]
  },
  {
   "cell_type": "markdown",
   "metadata": {
    "id": "PE8zfnrM_Mbv"
   },
   "source": [
    "<div class=\"alert alert-info\">\n",
    "    Please read the section ‘General information’ on the ‘Labs’ page of the course website before submitting this notebook!\n",
    "</div>"
   ]
  }
 ],
 "metadata": {
  "colab": {
   "collapsed_sections": [],
   "name": "L3 (1) (2).ipynb",
   "provenance": []
  },
  "kernelspec": {
   "display_name": "Python 3",
   "language": "python",
   "name": "python3"
  },
  "language_info": {
   "codemirror_mode": {
    "name": "ipython",
    "version": 3
   },
   "file_extension": ".py",
   "mimetype": "text/x-python",
   "name": "python",
   "nbconvert_exporter": "python",
   "pygments_lexer": "ipython3",
   "version": "3.8.8"
  }
 },
 "nbformat": 4,
 "nbformat_minor": 1
}
